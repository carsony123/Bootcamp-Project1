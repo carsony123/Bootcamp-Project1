{
 "cells": [
  {
   "cell_type": "markdown",
   "metadata": {},
   "source": [
    "## Import Dependencies"
   ]
  },
  {
   "cell_type": "code",
   "execution_count": 1,
   "metadata": {},
   "outputs": [],
   "source": [
    "# Dependencies\n",
    "from matplotlib import pyplot as plt\n",
    "from scipy import stats\n",
    "import numpy as np\n",
    "import pandas as pd\n",
    "import json\n",
    "import requests"
   ]
  },
  {
   "cell_type": "markdown",
   "metadata": {},
   "source": [
    "# Educationdata.urban.org\n",
    "## Postsecondary Enrollment Headcounts"
   ]
  },
  {
   "cell_type": "code",
   "execution_count": 2,
   "metadata": {},
   "outputs": [
    {
     "name": "stdout",
     "output_type": "stream",
     "text": [
      "Getting 2017 data.\n",
      "Getting 2018 data.\n",
      "Getting 2019 data.\n",
      "Getting 2020 data.\n",
      "Getting 2021 data.\n"
     ]
    },
    {
     "data": {
      "text/plain": [
       "2017    22962495\n",
       "2018    22723047\n",
       "2019    22723047\n",
       "2020    22525259\n",
       "2021    21687926\n",
       "Name: Enrolled in Undergrad, dtype: int64"
      ]
     },
     "execution_count": 2,
     "metadata": {},
     "output_type": "execute_result"
    }
   ],
   "source": [
    "# Get higher ed info from api\n",
    "ipeds_baseurl = 'https://educationdata.urban.org/api/v1/college-university/ipeds/enrollment-headcount/summaries?'\n",
    "params = {\n",
    "    'var': 'headcount',\n",
    "    'stat': 'sum',\n",
    "    'by': 'unitid',\n",
    "    # 1—Undergraduate 2—Graduate 3—First professional 4—Postbaccalaureate 99—Total\n",
    "    'level_of_study': '1',\n",
    "    'year': ''\n",
    "}\n",
    "\n",
    "years = ['2017', '2018', '2019', '2020', '2021']\n",
    "undergrad_headcount_data = {}\n",
    "\n",
    "for year in years:\n",
    "    params['year'] = year\n",
    "    print(f'Getting {year} data.')\n",
    "    response = requests.get(ipeds_baseurl, params=params)\n",
    "    data = response.json()\n",
    "    undergrad_headcount_data[f'{year}'] = pd.DataFrame(data['results'])['headcount'].sum()\n",
    "\n",
    "undergrad_series = pd.Series(undergrad_headcount_data, name='Enrolled in Undergrad')\n",
    "undergrad_series"
   ]
  },
  {
   "cell_type": "code",
   "execution_count": 3,
   "metadata": {},
   "outputs": [
    {
     "name": "stdout",
     "output_type": "stream",
     "text": [
      "Getting 2017 data.\n",
      "Getting 2018 data.\n",
      "Getting 2019 data.\n",
      "Getting 2020 data.\n",
      "Getting 2021 data.\n"
     ]
    },
    {
     "data": {
      "text/plain": [
       "2017    26887067\n",
       "2018    26685592\n",
       "2019    26685592\n",
       "2020    26497087\n",
       "2021    25762172\n",
       "Name: Total Enrolled in Postsecondary, dtype: int64"
      ]
     },
     "execution_count": 3,
     "metadata": {},
     "output_type": "execute_result"
    }
   ],
   "source": [
    "params['level_of_study'] = 99\n",
    "\n",
    "total_headcount_data = {}\n",
    "\n",
    "for year in years:\n",
    "    params['year'] = year\n",
    "    print(f'Getting {year} data.')\n",
    "    response = requests.get(ipeds_baseurl, params=params)\n",
    "    data = response.json()\n",
    "    total_headcount_data[f'{year}'] = pd.DataFrame(data['results'])['headcount'].sum()\n",
    "\n",
    "total_ps_series = pd.Series(total_headcount_data, name='Total Enrolled in Postsecondary')\n",
    "total_ps_series"
   ]
  },
  {
   "cell_type": "code",
   "execution_count": 5,
   "metadata": {},
   "outputs": [
    {
     "data": {
      "text/html": [
       "<div>\n",
       "<style scoped>\n",
       "    .dataframe tbody tr th:only-of-type {\n",
       "        vertical-align: middle;\n",
       "    }\n",
       "\n",
       "    .dataframe tbody tr th {\n",
       "        vertical-align: top;\n",
       "    }\n",
       "\n",
       "    .dataframe thead th {\n",
       "        text-align: right;\n",
       "    }\n",
       "</style>\n",
       "<table border=\"1\" class=\"dataframe\">\n",
       "  <thead>\n",
       "    <tr style=\"text-align: right;\">\n",
       "      <th></th>\n",
       "      <th>Enrolled in Undergrad</th>\n",
       "      <th>Total Enrolled in Postsecondary</th>\n",
       "    </tr>\n",
       "  </thead>\n",
       "  <tbody>\n",
       "    <tr>\n",
       "      <th>2017</th>\n",
       "      <td>22962495</td>\n",
       "      <td>26887067</td>\n",
       "    </tr>\n",
       "    <tr>\n",
       "      <th>2018</th>\n",
       "      <td>22723047</td>\n",
       "      <td>26685592</td>\n",
       "    </tr>\n",
       "    <tr>\n",
       "      <th>2019</th>\n",
       "      <td>22723047</td>\n",
       "      <td>26685592</td>\n",
       "    </tr>\n",
       "    <tr>\n",
       "      <th>2020</th>\n",
       "      <td>22525259</td>\n",
       "      <td>26497087</td>\n",
       "    </tr>\n",
       "    <tr>\n",
       "      <th>2021</th>\n",
       "      <td>21687926</td>\n",
       "      <td>25762172</td>\n",
       "    </tr>\n",
       "  </tbody>\n",
       "</table>\n",
       "</div>"
      ],
      "text/plain": [
       "      Enrolled in Undergrad  Total Enrolled in Postsecondary\n",
       "2017               22962495                         26887067\n",
       "2018               22723047                         26685592\n",
       "2019               22723047                         26685592\n",
       "2020               22525259                         26497087\n",
       "2021               21687926                         25762172"
      ]
     },
     "execution_count": 5,
     "metadata": {},
     "output_type": "execute_result"
    }
   ],
   "source": [
    "ps_df = pd.concat([\n",
    "    undergrad_series,\n",
    "    total_ps_series],\n",
    "    axis=1\n",
    ")\n",
    "ps_df"
   ]
  },
  {
   "cell_type": "code",
   "execution_count": 6,
   "metadata": {},
   "outputs": [
    {
     "data": {
      "text/html": [
       "<div>\n",
       "<style scoped>\n",
       "    .dataframe tbody tr th:only-of-type {\n",
       "        vertical-align: middle;\n",
       "    }\n",
       "\n",
       "    .dataframe tbody tr th {\n",
       "        vertical-align: top;\n",
       "    }\n",
       "\n",
       "    .dataframe thead th {\n",
       "        text-align: right;\n",
       "    }\n",
       "</style>\n",
       "<table border=\"1\" class=\"dataframe\">\n",
       "  <thead>\n",
       "    <tr style=\"text-align: right;\">\n",
       "      <th></th>\n",
       "      <th>Enrolled in Undergrad</th>\n",
       "      <th>Enrolled Past Undergrad</th>\n",
       "      <th>Total Enrolled in Postsecondary</th>\n",
       "    </tr>\n",
       "  </thead>\n",
       "  <tbody>\n",
       "    <tr>\n",
       "      <th>2017</th>\n",
       "      <td>22962495</td>\n",
       "      <td>3924572</td>\n",
       "      <td>26887067</td>\n",
       "    </tr>\n",
       "    <tr>\n",
       "      <th>2018</th>\n",
       "      <td>22723047</td>\n",
       "      <td>3962545</td>\n",
       "      <td>26685592</td>\n",
       "    </tr>\n",
       "    <tr>\n",
       "      <th>2019</th>\n",
       "      <td>22723047</td>\n",
       "      <td>3962545</td>\n",
       "      <td>26685592</td>\n",
       "    </tr>\n",
       "    <tr>\n",
       "      <th>2020</th>\n",
       "      <td>22525259</td>\n",
       "      <td>3971828</td>\n",
       "      <td>26497087</td>\n",
       "    </tr>\n",
       "    <tr>\n",
       "      <th>2021</th>\n",
       "      <td>21687926</td>\n",
       "      <td>4074246</td>\n",
       "      <td>25762172</td>\n",
       "    </tr>\n",
       "  </tbody>\n",
       "</table>\n",
       "</div>"
      ],
      "text/plain": [
       "      Enrolled in Undergrad  Enrolled Past Undergrad  \\\n",
       "2017               22962495                  3924572   \n",
       "2018               22723047                  3962545   \n",
       "2019               22723047                  3962545   \n",
       "2020               22525259                  3971828   \n",
       "2021               21687926                  4074246   \n",
       "\n",
       "      Total Enrolled in Postsecondary  \n",
       "2017                         26887067  \n",
       "2018                         26685592  \n",
       "2019                         26685592  \n",
       "2020                         26497087  \n",
       "2021                         25762172  "
      ]
     },
     "execution_count": 6,
     "metadata": {},
     "output_type": "execute_result"
    }
   ],
   "source": [
    "ps_df['Enrolled Past Undergrad'] = ps_df['Total Enrolled in Postsecondary']-ps_df['Enrolled in Undergrad']\n",
    "ps_df = ps_df[['Enrolled in Undergrad', 'Enrolled Past Undergrad', 'Total Enrolled in Postsecondary']]\n",
    "ps_df"
   ]
  },
  {
   "cell_type": "markdown",
   "metadata": {},
   "source": [
    "## Completed Higher Ed counts"
   ]
  },
  {
   "cell_type": "code",
   "execution_count": 4,
   "metadata": {},
   "outputs": [
    {
     "name": "stdout",
     "output_type": "stream",
     "text": [
      "Getting 2017 data.\n",
      "Getting 2018 data.\n",
      "Getting 2019 data.\n",
      "Getting 2020 data.\n",
      "Getting 2021 data.\n"
     ]
    },
    {
     "data": {
      "text/plain": [
       "2017    4720982\n",
       "2018    4765256\n",
       "2019    4742858\n",
       "2020    4742858\n",
       "2021    4843181\n",
       "Name: Completed Higher Ed, dtype: int64"
      ]
     },
     "execution_count": 4,
     "metadata": {},
     "output_type": "execute_result"
    }
   ],
   "source": [
    "baseurl = 'https://educationdata.urban.org/api/v1/college-university/ipeds/completers/summaries?'\n",
    "\n",
    "params = {\n",
    "    'var': 'completers',\n",
    "    'stat': 'sum',\n",
    "    'by': 'unitid',\n",
    "    'year': ''\n",
    "}\n",
    "\n",
    "years = ['2017', '2018', '2019', '2020', '2021']\n",
    "completers_data = {}\n",
    "\n",
    "for year in years:\n",
    "    params['year'] = year\n",
    "    print(f'Getting {year} data.')\n",
    "    response = requests.get(baseurl, params=params)\n",
    "    data = response.json()['results']\n",
    "    df = pd.DataFrame(data)\n",
    "    completers_data[f'{year}'] = df['completers'].sum()\n",
    "\n",
    "completers_series = pd.Series(completers_data, name='Completed Higher Ed')\n",
    "completers_series\n",
    "\n",
    "# 2017    4720982\n",
    "# 2018    4765256\n",
    "# 2019    4742858\n",
    "# 2020    4742858\n",
    "# 2021    4843181"
   ]
  },
  {
   "cell_type": "markdown",
   "metadata": {},
   "source": [
    "## Fall Retention Rates"
   ]
  },
  {
   "cell_type": "code",
   "execution_count": 7,
   "metadata": {},
   "outputs": [
    {
     "name": "stdout",
     "output_type": "stream",
     "text": [
      "Getting 2017 data.\n",
      "Getting 2018 data.\n",
      "Getting 2019 data.\n",
      "Getting 2020 data.\n",
      "Getting 2020 data.\n"
     ]
    },
    {
     "data": {
      "text/html": [
       "<div>\n",
       "<style scoped>\n",
       "    .dataframe tbody tr th:only-of-type {\n",
       "        vertical-align: middle;\n",
       "    }\n",
       "\n",
       "    .dataframe tbody tr th {\n",
       "        vertical-align: top;\n",
       "    }\n",
       "\n",
       "    .dataframe thead th {\n",
       "        text-align: right;\n",
       "    }\n",
       "</style>\n",
       "<table border=\"1\" class=\"dataframe\">\n",
       "  <thead>\n",
       "    <tr style=\"text-align: right;\">\n",
       "      <th></th>\n",
       "      <th>Full-Time Fall Retention</th>\n",
       "      <th>Part-Time Fall Retention</th>\n",
       "      <th>Avg Fall Retention</th>\n",
       "    </tr>\n",
       "  </thead>\n",
       "  <tbody>\n",
       "    <tr>\n",
       "      <th>2017</th>\n",
       "      <td>0.704055</td>\n",
       "      <td>0.505465</td>\n",
       "      <td>0.683817</td>\n",
       "    </tr>\n",
       "    <tr>\n",
       "      <th>2018</th>\n",
       "      <td>0.706103</td>\n",
       "      <td>0.509421</td>\n",
       "      <td>0.687010</td>\n",
       "    </tr>\n",
       "    <tr>\n",
       "      <th>2019</th>\n",
       "      <td>0.714044</td>\n",
       "      <td>0.516850</td>\n",
       "      <td>0.696807</td>\n",
       "    </tr>\n",
       "    <tr>\n",
       "      <th>2020</th>\n",
       "      <td>0.706521</td>\n",
       "      <td>0.510495</td>\n",
       "      <td>0.688849</td>\n",
       "    </tr>\n",
       "  </tbody>\n",
       "</table>\n",
       "</div>"
      ],
      "text/plain": [
       "      Full-Time Fall Retention  Part-Time Fall Retention  Avg Fall Retention\n",
       "2017                  0.704055                  0.505465            0.683817\n",
       "2018                  0.706103                  0.509421            0.687010\n",
       "2019                  0.714044                  0.516850            0.696807\n",
       "2020                  0.706521                  0.510495            0.688849"
      ]
     },
     "execution_count": 7,
     "metadata": {},
     "output_type": "execute_result"
    }
   ],
   "source": [
    "baseurl = 'https://educationdata.urban.org/api/v1/college-university/ipeds/fall-retention/summaries?'\n",
    "\n",
    "params = {\n",
    "    'var': 'retention_rate',\n",
    "    'stat': 'avg',\n",
    "    'by': 'ftpt',\n",
    "    'year': ''\n",
    "}\n",
    "\n",
    "years = ['2017', '2018', '2019', '2020']\n",
    "retention_data = {}\n",
    "\n",
    "for year in years:\n",
    "    params['year'] = year\n",
    "    print(f'Getting {year} data.')\n",
    "    response = requests.get(baseurl, params=params)\n",
    "    data = response.json()['results']\n",
    "    datadict = {}\n",
    "    datadict['Full-Time Fall Retention'] = data[0]['retention_rate']\n",
    "    datadict['Part-Time Fall Retention'] = data[1]['retention_rate']\n",
    "    datadict['Avg Fall Retention'] = data[2]['retention_rate']\n",
    "    retention_data[f'{year}'] = datadict\n",
    "\n",
    "retention_df = pd.DataFrame(retention_data)\n",
    "retention_df = retention_df.transpose()\n",
    "retention_df"
   ]
  },
  {
   "cell_type": "markdown",
   "metadata": {},
   "source": [
    "## K-12 enrollment data"
   ]
  },
  {
   "cell_type": "code",
   "execution_count": 8,
   "metadata": {},
   "outputs": [
    {
     "name": "stdout",
     "output_type": "stream",
     "text": [
      "Getting 2017 data.\n",
      "Getting 2018 data.\n",
      "Getting 2019 data.\n",
      "Getting 2020 data.\n"
     ]
    }
   ],
   "source": [
    "baseurl = 'https://educationdata.urban.org/api/v1/schools/ccd/enrollment/summaries?'\n",
    "\n",
    "params = {\n",
    "    'var': 'enrollment',\n",
    "    'stat': 'sum',\n",
    "    'by': 'grade',\n",
    "    'year': ''\n",
    "}\n",
    "\n",
    "years = ['2017', '2018', '2019', '2020']\n",
    "enrollment_by_grade = {}\n",
    "\n",
    "for year in years:\n",
    "    params['year'] = year\n",
    "    print(f'Getting {year} data.')\n",
    "    response = requests.get(baseurl, params=params)\n",
    "    data = response.json()\n",
    "    enrollment = {}\n",
    "    for x in data['results']:\n",
    "        grade = x['grade']\n",
    "        enrollment[f'{grade}'] = x['enrollment']\n",
    "    enrollment_by_grade[f'{year}'] = enrollment"
   ]
  },
  {
   "cell_type": "code",
   "execution_count": 9,
   "metadata": {},
   "outputs": [
    {
     "data": {
      "text/html": [
       "<div>\n",
       "<style scoped>\n",
       "    .dataframe tbody tr th:only-of-type {\n",
       "        vertical-align: middle;\n",
       "    }\n",
       "\n",
       "    .dataframe tbody tr th {\n",
       "        vertical-align: top;\n",
       "    }\n",
       "\n",
       "    .dataframe thead th {\n",
       "        text-align: right;\n",
       "    }\n",
       "</style>\n",
       "<table border=\"1\" class=\"dataframe\">\n",
       "  <thead>\n",
       "    <tr style=\"text-align: right;\">\n",
       "      <th></th>\n",
       "      <th>Enrolled in K</th>\n",
       "      <th>Enrolled in 1st</th>\n",
       "      <th>Enrolled in 2nd</th>\n",
       "      <th>Enrolled in 3rd</th>\n",
       "      <th>Enrolled in 4th</th>\n",
       "      <th>Enrolled in 5th</th>\n",
       "      <th>Enrolled in 6th</th>\n",
       "      <th>Enrolled in 7th</th>\n",
       "      <th>Enrolled in 8th</th>\n",
       "      <th>Enrolled in 9th</th>\n",
       "      <th>Enrolled in 10th</th>\n",
       "      <th>Enrolled in 11th</th>\n",
       "      <th>Enrolled in 12th</th>\n",
       "    </tr>\n",
       "  </thead>\n",
       "  <tbody>\n",
       "    <tr>\n",
       "      <th>2017</th>\n",
       "      <td>1255505</td>\n",
       "      <td>3697231</td>\n",
       "      <td>3711904</td>\n",
       "      <td>3816334</td>\n",
       "      <td>3887802</td>\n",
       "      <td>3905590</td>\n",
       "      <td>3854926</td>\n",
       "      <td>3805355</td>\n",
       "      <td>3798345</td>\n",
       "      <td>4018689</td>\n",
       "      <td>3855133</td>\n",
       "      <td>3695341</td>\n",
       "      <td>3640445</td>\n",
       "    </tr>\n",
       "    <tr>\n",
       "      <th>2018</th>\n",
       "      <td>1318877</td>\n",
       "      <td>3666344</td>\n",
       "      <td>3678424</td>\n",
       "      <td>3732953</td>\n",
       "      <td>3802452</td>\n",
       "      <td>3901341</td>\n",
       "      <td>3916316</td>\n",
       "      <td>3872358</td>\n",
       "      <td>3811121</td>\n",
       "      <td>4025850</td>\n",
       "      <td>3866284</td>\n",
       "      <td>3667744</td>\n",
       "      <td>3654021</td>\n",
       "    </tr>\n",
       "    <tr>\n",
       "      <th>2019</th>\n",
       "      <td>1360941</td>\n",
       "      <td>3669432</td>\n",
       "      <td>3661781</td>\n",
       "      <td>3709415</td>\n",
       "      <td>3728758</td>\n",
       "      <td>3824609</td>\n",
       "      <td>3919004</td>\n",
       "      <td>3940340</td>\n",
       "      <td>3884860</td>\n",
       "      <td>4065478</td>\n",
       "      <td>3885743</td>\n",
       "      <td>3685420</td>\n",
       "      <td>3624904</td>\n",
       "    </tr>\n",
       "    <tr>\n",
       "      <th>2020</th>\n",
       "      <td>1080497</td>\n",
       "      <td>3538666</td>\n",
       "      <td>3545463</td>\n",
       "      <td>3568901</td>\n",
       "      <td>3624353</td>\n",
       "      <td>3663730</td>\n",
       "      <td>3765069</td>\n",
       "      <td>3878814</td>\n",
       "      <td>3907716</td>\n",
       "      <td>4031746</td>\n",
       "      <td>3912087</td>\n",
       "      <td>3714309</td>\n",
       "      <td>3665497</td>\n",
       "    </tr>\n",
       "  </tbody>\n",
       "</table>\n",
       "</div>"
      ],
      "text/plain": [
       "      Enrolled in K  Enrolled in 1st  Enrolled in 2nd  Enrolled in 3rd  \\\n",
       "2017        1255505          3697231          3711904          3816334   \n",
       "2018        1318877          3666344          3678424          3732953   \n",
       "2019        1360941          3669432          3661781          3709415   \n",
       "2020        1080497          3538666          3545463          3568901   \n",
       "\n",
       "      Enrolled in 4th  Enrolled in 5th  Enrolled in 6th  Enrolled in 7th  \\\n",
       "2017          3887802          3905590          3854926          3805355   \n",
       "2018          3802452          3901341          3916316          3872358   \n",
       "2019          3728758          3824609          3919004          3940340   \n",
       "2020          3624353          3663730          3765069          3878814   \n",
       "\n",
       "      Enrolled in 8th  Enrolled in 9th  Enrolled in 10th  Enrolled in 11th  \\\n",
       "2017          3798345          4018689           3855133           3695341   \n",
       "2018          3811121          4025850           3866284           3667744   \n",
       "2019          3884860          4065478           3885743           3685420   \n",
       "2020          3907716          4031746           3912087           3714309   \n",
       "\n",
       "      Enrolled in 12th  \n",
       "2017           3640445  \n",
       "2018           3654021  \n",
       "2019           3624904  \n",
       "2020           3665497  "
      ]
     },
     "execution_count": 9,
     "metadata": {},
     "output_type": "execute_result"
    }
   ],
   "source": [
    "grade_numbers = ['-1','1','2','3','4','5','6','7','8','9','10','11','12']\n",
    "grade_strings = ['Enrolled in K', 'Enrolled in 1st', 'Enrolled in 2nd', 'Enrolled in 3rd', 'Enrolled in 4th', 'Enrolled in 5th', 'Enrolled in 6th', 'Enrolled in 7th', 'Enrolled in 8th', 'Enrolled in 9th', 'Enrolled in 10th', 'Enrolled in 11th', 'Enrolled in 12th']\n",
    "grade_dict = dict(zip(grade_numbers, grade_strings))\n",
    "\n",
    "k_12_enrollmentdata = pd.DataFrame(enrollment_by_grade)\n",
    "k_12_enrollmentdata = k_12_enrollmentdata.transpose()\n",
    "k_12_enrollmentdata = k_12_enrollmentdata[grade_numbers]\n",
    "k_12_enrollmentdata = k_12_enrollmentdata.rename(columns=grade_dict)\n",
    "\n",
    "k_12_enrollmentdata"
   ]
  },
  {
   "cell_type": "code",
   "execution_count": 18,
   "metadata": {},
   "outputs": [],
   "source": [
    "complete_ps_df = pd.concat([ps_df,\n",
    "                            completers_series,\n",
    "                            retention_df],\n",
    "                           axis=1)\n",
    "complete_ps_df.index.name = 'Year'\n",
    "complete_ps_df.to_csv(\"data_output/postsecondary_data.csv\", encoding=\"utf-8\", index=True)"
   ]
  },
  {
   "cell_type": "code",
   "execution_count": 19,
   "metadata": {},
   "outputs": [],
   "source": [
    "k_12_enrollmentdata.index.name = 'Year'\n",
    "k_12_enrollmentdata.to_csv(\"data_output/k_12_data.csv\", encoding=\"utf-8\", index=True)"
   ]
  }
 ],
 "metadata": {
  "kernelspec": {
   "display_name": "Python [conda env:PythonData] *",
   "language": "python",
   "name": "conda-env-PythonData-py"
  },
  "language_info": {
   "codemirror_mode": {
    "name": "ipython",
    "version": 3
   },
   "file_extension": ".py",
   "mimetype": "text/x-python",
   "name": "python",
   "nbconvert_exporter": "python",
   "pygments_lexer": "ipython3",
   "version": "3.7.7"
  },
  "vscode": {
   "interpreter": {
    "hash": "752da9c6441aec1c62af749f25577f4b7784a0744aead8d092fa91422f20de78"
   }
  }
 },
 "nbformat": 4,
 "nbformat_minor": 2
}
